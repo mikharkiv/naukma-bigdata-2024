{
 "nbformat": 4,
 "nbformat_minor": 0,
 "metadata": {
  "colab": {
   "provenance": []
  },
  "kernelspec": {
   "name": "python3",
   "language": "python",
   "display_name": "Python 3 (ipykernel)"
  },
  "language_info": {
   "name": "python"
  }
 },
 "cells": [
  {
   "cell_type": "markdown",
   "source": [
    "# I. OOP"
   ],
   "metadata": {
    "id": "5qV_sehzFCTp"
   }
  },
  {
   "cell_type": "markdown",
   "source": [
    "1. (6б). Створіть клас Animal, додайте три атрибути, один з яких має значення за замовчуванням та два методи на свій розсуд."
   ],
   "metadata": {
    "id": "tx_U_hOALyfg"
   }
  },
  {
   "cell_type": "code",
   "source": [
    "import math\n",
    "import random\n",
    "\n",
    "\n",
    "class Animal:\n",
    "    def __init__(\n",
    "        self,\n",
    "        specie: str,\n",
    "        color: str,\n",
    "        legs_count: int = 4\n",
    "    ):\n",
    "        self.specie = specie\n",
    "        self.color = color\n",
    "        self.legs_count = legs_count\n",
    "    \n",
    "    def show(self):\n",
    "        print(self)\n",
    "    \n",
    "    def act_like_chameleon(self):\n",
    "        self.color = random.choice(\n",
    "            ['red', 'green', 'blue', 'purple', 'yellow', 'magenta', 'cyan', 'white']\n",
    "        )\n",
    "        print(f\"(｡◕‿‿◕｡) Now I am a {self.color} {self.specie}\")\n",
    "    \n",
    "    def __str__(self):\n",
    "        return f\"<Animal {str(self.__dict__)}>\"\n"
   ],
   "metadata": {
    "id": "-Vf895KaL88N",
    "ExecuteTime": {
     "end_time": "2024-02-18T12:37:45.778231Z",
     "start_time": "2024-02-18T12:37:45.729620Z"
    }
   },
   "execution_count": 10,
   "outputs": []
  },
  {
   "cell_type": "markdown",
   "source": [
    "2. (2б). Створіть два обʼєкти цього класу, де один з обʼєктів створюється із дефолтним значенням атрибуту. На одному обʼєкті отримайте значення його атрибуту, а на іншому викличте один з його методів."
   ],
   "metadata": {
    "id": "X_UlOMB0L93w"
   }
  },
  {
   "cell_type": "code",
   "source": [
    "dog = Animal(\"dog\", \"black\")\n",
    "octopus = Animal(\"octopus\", \"blue\", 8)\n",
    "\n",
    "print(f\"Octopus has {octopus.legs_count} legs\")\n",
    "dog.act_like_chameleon()"
   ],
   "metadata": {
    "id": "7gBu0ESOMCpG",
    "ExecuteTime": {
     "end_time": "2024-02-18T12:38:16.180222Z",
     "start_time": "2024-02-18T12:38:16.172737Z"
    }
   },
   "execution_count": 13,
   "outputs": [
    {
     "name": "stdout",
     "output_type": "stream",
     "text": [
      "Octopus has 8 legs\n",
      "(｡◕‿‿◕｡) Now I am a magenta dog\n"
     ]
    }
   ]
  },
  {
   "cell_type": "markdown",
   "source": [
    "3. (5б). Створіть клас, де атрибути мають різні рівні доступу. Спробуйте отримати їхні значення та опишіть результати."
   ],
   "metadata": {
    "id": "HoqSCZt1MHn5"
   }
  },
  {
   "cell_type": "code",
   "source": [
    "class Fridge:\n",
    "    def __init__(self):\n",
    "        self.potato = \"Potato\"\n",
    "        self.__chocolate = \"Chocolate\"\n",
    "\n",
    "print(Fridge().potato)\n",
    "print(Fridge().__chocolate)"
   ],
   "metadata": {
    "id": "r9b3vJxBMSPV",
    "ExecuteTime": {
     "end_time": "2024-02-18T12:41:47.209879Z",
     "start_time": "2024-02-18T12:41:47.090924Z"
    }
   },
   "execution_count": 19,
   "outputs": [
    {
     "name": "stdout",
     "output_type": "stream",
     "text": [
      "Potato\n"
     ]
    },
    {
     "ename": "AttributeError",
     "evalue": "'Fridge' object has no attribute '__chocolate'",
     "output_type": "error",
     "traceback": [
      "\u001B[0;31m---------------------------------------------------------------------------\u001B[0m",
      "\u001B[0;31mAttributeError\u001B[0m                            Traceback (most recent call last)",
      "Cell \u001B[0;32mIn[19], line 7\u001B[0m\n\u001B[1;32m      4\u001B[0m         \u001B[38;5;28mself\u001B[39m\u001B[38;5;241m.\u001B[39m__chocolate \u001B[38;5;241m=\u001B[39m \u001B[38;5;124m\"\u001B[39m\u001B[38;5;124mChocolate\u001B[39m\u001B[38;5;124m\"\u001B[39m\n\u001B[1;32m      6\u001B[0m \u001B[38;5;28mprint\u001B[39m(Fridge()\u001B[38;5;241m.\u001B[39mpotato)\n\u001B[0;32m----> 7\u001B[0m \u001B[38;5;28mprint\u001B[39m(\u001B[43mFridge\u001B[49m\u001B[43m(\u001B[49m\u001B[43m)\u001B[49m\u001B[38;5;241;43m.\u001B[39;49m\u001B[43m__chocolate\u001B[49m)\n",
      "\u001B[0;31mAttributeError\u001B[0m: 'Fridge' object has no attribute '__chocolate'"
     ]
    }
   ]
  },
  {
   "cell_type": "markdown",
   "source": [
    "## Відповідь\n",
    "Атрибут з загальною видимістю `potato` вдалось дістати.\n",
    "Атрибут `__chocolate` не вдалось дістати, оскільки він \"приватний\", і Python змінює назви атрибутів, які починаються з `__` (тепер він називається `_Fridge__chocolate`, і от так його вже можна дістати)"
   ],
   "metadata": {
    "collapsed": false
   }
  },
  {
   "cell_type": "markdown",
   "source": [
    "4. (7б). Як ви розумієте термін self? Для чого використовується метод __init __?"
   ],
   "metadata": {
    "id": "5op2m2vgMSkZ"
   }
  },
  {
   "cell_type": "markdown",
   "source": [
    "1. `self` - посилання на екземпляр класу\n",
    "2. `__init__` використовується при створенні екземпляру класу, одразу після того, як новий екземпляр створився, і наповнює новий екземпляр класу атрибутами або виконує певну логіку, яка потрібна для ініціалізації екземпляру класу "
   ],
   "metadata": {
    "id": "DyiPqNRvMasx"
   }
  },
  {
   "cell_type": "markdown",
   "source": [
    "5. (9б). Створіть клас Фігура без атрибутів, з методом get_area для отримання площі фігури, що повертає 0 та __add __, який приймає self та other в якості аргументів, а повертає суму площин фігур self та other."
   ],
   "metadata": {
    "id": "-6X8EGfjMd2y"
   }
  },
  {
   "cell_type": "code",
   "source": [
    "class Figure:\n",
    "    \n",
    "    def get_area(self):\n",
    "        return 0\n",
    "    \n",
    "    def __add__(self, other: \"Figure\"):\n",
    "        return self.get_area() + other.get_area()"
   ],
   "metadata": {
    "id": "4rvO_wYUMaEr",
    "ExecuteTime": {
     "end_time": "2024-02-18T12:45:17.202005Z",
     "start_time": "2024-02-18T12:45:17.193083Z"
    }
   },
   "execution_count": 20,
   "outputs": []
  },
  {
   "cell_type": "markdown",
   "source": [
    "6. (11б). Створіть 2 дочірніх класи від Фігури: Трикутник та Коло, які мають атрибути, необхідні для розрахунку площин. Визначте метод get_area в кожному з них так, щоби вони розраховували площу в залежності від формули для кожного типу фігури. Створіть обʼєкт класу Трикутник та обʼєкт класу Коло. Виконайте операцію суми за допомогою оператора + між ними."
   ],
   "metadata": {
    "id": "SFcKnnv5Mo_z"
   }
  },
  {
   "cell_type": "code",
   "source": [
    "import math\n",
    "\n",
    "\n",
    "class Triangle(Figure):\n",
    "    def __init__(\n",
    "        self,\n",
    "        side_1_length: float,\n",
    "        side_2_length: float,\n",
    "        side_3_length: float\n",
    "    ):\n",
    "        self.side_1_length = side_1_length\n",
    "        self.side_2_length = side_2_length\n",
    "        self.side_3_length = side_3_length\n",
    "    \n",
    "    def get_area(self):\n",
    "        half_perimeter = sum((self.side_1_length, self.side_2_length, self.side_3_length)) / 2\n",
    "        return math.sqrt(\n",
    "            half_perimeter * \n",
    "            (half_perimeter - self.side_1_length) * \n",
    "            (half_perimeter - self.side_2_length) * \n",
    "            (half_perimeter - self.side_3_length)\n",
    "        )\n",
    "\n",
    "class Circle(Figure):\n",
    "    def __init__(self, radius: float):\n",
    "        self.radius = radius\n",
    "    \n",
    "    def get_area(self):\n",
    "        return math.pi * (self.radius ** 2)\n",
    "\n",
    "triangle = Triangle(3, 4, 5)\n",
    "circle = Circle(2)\n",
    "\n",
    "print(f\"Area of a triangle: {triangle.get_area()}\")\n",
    "print(f\"Area of a circle: {circle.get_area()}\")\n",
    "print(f\"Sum: {circle + triangle}\")"
   ],
   "metadata": {
    "id": "H3GVNr69Muf3",
    "ExecuteTime": {
     "end_time": "2024-02-18T12:51:19.407013Z",
     "start_time": "2024-02-18T12:51:19.161732Z"
    }
   },
   "execution_count": 24,
   "outputs": [
    {
     "name": "stdout",
     "output_type": "stream",
     "text": [
      "Area of a triangle: 6.0\n",
      "Area of a circle: 12.566370614359172\n",
      "Sum: 18.566370614359172\n"
     ]
    }
   ]
  },
  {
   "cell_type": "markdown",
   "source": [
    "7. (3б). Продемонструйте різницю між isinstance та issubclass."
   ],
   "metadata": {
    "id": "HCvR206YMvLK"
   }
  },
  {
   "cell_type": "code",
   "source": [
    "print(f\"issubclass(Circle, Figure): {issubclass(Circle, Figure)}\")\n",
    "print(f\"isinstance(Circle, Figure): {isinstance(Circle, Figure)}\")\n",
    "print(f\"isinstance(circle, Figure): {isinstance(circle, Figure)}\")\n",
    "\n",
    "print(\"\\nClass Circle is a subclass of a Figure, but class Circle is not an instance of it\")\n",
    "print(\"However, instance of a class Circle is an instalce of class Figure\")"
   ],
   "metadata": {
    "id": "L_V1bBvDM0GN",
    "ExecuteTime": {
     "end_time": "2024-02-18T12:54:56.451564Z",
     "start_time": "2024-02-18T12:54:56.420595Z"
    }
   },
   "execution_count": 35,
   "outputs": [
    {
     "name": "stdout",
     "output_type": "stream",
     "text": [
      "issubclass(Circle, Figure): True\n",
      "isinstance(Circle, Figure): False\n",
      "isinstance(circle, Figure): True\n",
      "\n",
      "Class Circle is a subclass of a Figure, but class Circle is not an instance of it\n",
      "However, instance of a class Circle is an instalce of class Figure\n"
     ]
    }
   ]
  },
  {
   "cell_type": "markdown",
   "source": [
    "8. (13б). Створіть клас BankAccount з приватними атрибутами balance та account_number. Реалізуйте методи поповнення та зняття коштів, забезпечивши належну інкапсуляцію. Підказка: використовуйте декоратори property та setter."
   ],
   "metadata": {
    "id": "jjsaBZ-iM0Qq"
   }
  },
  {
   "cell_type": "code",
   "source": [
    "class BankAccount:\n",
    "    def __init__(self, balance: float, account_number: str):\n",
    "        self.__balance = balance\n",
    "        self.__account_number = account_number\n",
    "    \n",
    "    @property\n",
    "    def balance(self):\n",
    "        return self.__balance\n",
    "    \n",
    "    @balance.setter\n",
    "    def balance(self, amount: float):\n",
    "        self.__balance = amount\n",
    "\n",
    "account = BankAccount(balance=100, account_number=\"0.1\")\n",
    "account.balance += 10\n",
    "account.balance -= 20\n",
    "print(account.balance)"
   ],
   "metadata": {
    "id": "xCvZ7lh8M7YA",
    "ExecuteTime": {
     "end_time": "2024-02-18T16:48:20.489409Z",
     "start_time": "2024-02-18T16:48:20.445718Z"
    }
   },
   "execution_count": 37,
   "outputs": [
    {
     "name": "stdout",
     "output_type": "stream",
     "text": [
      "90\n"
     ]
    }
   ]
  },
  {
   "cell_type": "markdown",
   "source": [
    "9. (11б). Створіть клас Library, який містить список об'єктів типу Book. Реалізуйте методи для додавання книги, видалення книги та відображення списку книг."
   ],
   "metadata": {
    "id": "tIzL2SJTM8ft"
   }
  },
  {
   "cell_type": "code",
   "source": [
    "class Book:\n",
    "    def __init__(self, name: str, author: str):\n",
    "        self.name = name\n",
    "        self.author = author\n",
    "    \n",
    "    def __eq__(self, other):\n",
    "        return (self.name, self.author) == (other.name, other.author)\n",
    "\n",
    "\n",
    "class Library:\n",
    "    def __init__(self):\n",
    "        self.books = []\n",
    "    \n",
    "    def add_book(self, name: str, author: str):\n",
    "        new_book = Book(name=name, author=author)\n",
    "        \n",
    "        if new_book in self.books:\n",
    "            print(\"Book already exists\")\n",
    "            return\n",
    "        \n",
    "        self.books.append(Book(name=name, author=author))\n",
    "    \n",
    "    def remove_book(self, name: str, author: str):\n",
    "        book = Book(name=name, author=author)\n",
    "        \n",
    "        if book not in self.books:\n",
    "            print(\"Book not found\")\n",
    "            return\n",
    "        \n",
    "        self.books.remove(book)\n",
    "    \n",
    "    def display(self):\n",
    "        print(\"| Library |\")\n",
    "        for index, book in enumerate(self.books):\n",
    "            print(f\"Book #{index}: name '{book.name}', author {book.author}\")\n",
    "\n",
    "\n",
    "library = Library()\n",
    "library.add_book(\"Palimpsests\", \"Vasyl Stus\")\n",
    "library.add_book(\"Toreadors from Vasiukivka\", \"Vsevolod Nestaiko\")\n",
    "library.remove_book(\"Toreadors from Vasiukivka\", \"Vsevolod Nestaiko\")\n",
    "library.display()"
   ],
   "metadata": {
    "id": "HWxfJKLtNAUZ",
    "ExecuteTime": {
     "end_time": "2024-02-18T16:54:47.984566Z",
     "start_time": "2024-02-18T16:54:47.931112Z"
    }
   },
   "execution_count": 41,
   "outputs": [
    {
     "name": "stdout",
     "output_type": "stream",
     "text": [
      "| Library |\n",
      "Book #0: name 'Palimpsests', author Vasyl Stus\n"
     ]
    }
   ]
  },
  {
   "cell_type": "markdown",
   "source": [
    "10. (13б). Створіть клас Person з атрибутами name та age. Створіть ще один клас Employee з такими атрибутами, як department та salary. Створіть клас Manager, який успадковує обидва класи Person та Employee. Продемонструйте використання множинної спадковості, створивши обʼєкт класу Manager та отримавши mro для цього класу."
   ],
   "metadata": {
    "id": "lmV8pAwwNIqu"
   }
  },
  {
   "cell_type": "code",
   "source": [
    "class Person:\n",
    "    def __init__(self, name: str, age: int):\n",
    "        self.name = name\n",
    "        self.age = age\n",
    "\n",
    "\n",
    "class Employee:\n",
    "    def __init__(self, department: str, salary: float):\n",
    "        self.department = department\n",
    "        self.salary = salary\n",
    "\n",
    "\n",
    "class Manager(Person, Employee):\n",
    "    def __init__(\n",
    "            self, name: str, age: int, department: str, salary: float\n",
    "    ):\n",
    "        Person.__init__(self, name, age)\n",
    "        Employee.__init__(self, department, salary)\n",
    "    \n",
    "    def __str__(self):\n",
    "        return f\"<Manager {self.__dict__}>\"\n",
    "\n",
    "\n",
    "manager = Manager(\"Smith\", 21, \"Data Science Department\", 1500)\n",
    "print(manager)\n",
    "print(f\"MRO: {list(Manager.__mro__)}\")"
   ],
   "metadata": {
    "id": "R49grKlWNPeN",
    "ExecuteTime": {
     "end_time": "2024-02-18T17:00:52.988349Z",
     "start_time": "2024-02-18T17:00:52.973893Z"
    }
   },
   "execution_count": 49,
   "outputs": [
    {
     "name": "stdout",
     "output_type": "stream",
     "text": [
      "<Manager {'name': 'Smith', 'age': 21, 'department': 'Data Science Department', 'salary': 1500}>\n",
      "MRO: [<class '__main__.Manager'>, <class '__main__.Person'>, <class '__main__.Employee'>, <class 'object'>]\n"
     ]
    }
   ]
  },
  {
   "cell_type": "markdown",
   "source": [
    "# II. Iterator"
   ],
   "metadata": {
    "id": "dIJyUiNBFG8G"
   }
  },
  {
   "cell_type": "markdown",
   "source": [
    "11. (4б). Визначте рядок(str) з 4ма різними за значенням символами. Створіть ітератор на основі цього рядка. Викличте 5 разів функцію next на ітераторі, 4ри перших з них огорніть у ф-цію print()."
   ],
   "metadata": {
    "id": "13vsm0NyKIzL"
   }
  },
  {
   "cell_type": "code",
   "source": [
    "four_chars_string = \"btlg\"\n",
    "four_chars_string_iterator = iter(four_chars_string)\n",
    "\n",
    "print(next(four_chars_string_iterator))\n",
    "print(next(four_chars_string_iterator))\n",
    "print(next(four_chars_string_iterator))\n",
    "print(next(four_chars_string_iterator))\n",
    "next(four_chars_string_iterator)"
   ],
   "metadata": {
    "id": "81ntabAkKuz-",
    "ExecuteTime": {
     "end_time": "2024-02-18T17:02:09.183045Z",
     "start_time": "2024-02-18T17:02:08.865027Z"
    }
   },
   "execution_count": 50,
   "outputs": [
    {
     "name": "stdout",
     "output_type": "stream",
     "text": [
      "b\n",
      "t\n",
      "l\n",
      "g\n"
     ]
    },
    {
     "ename": "StopIteration",
     "evalue": "",
     "output_type": "error",
     "traceback": [
      "\u001B[0;31m---------------------------------------------------------------------------\u001B[0m",
      "\u001B[0;31mStopIteration\u001B[0m                             Traceback (most recent call last)",
      "Cell \u001B[0;32mIn[50], line 8\u001B[0m\n\u001B[1;32m      6\u001B[0m \u001B[38;5;28mprint\u001B[39m(\u001B[38;5;28mnext\u001B[39m(four_chars_string_iterator))\n\u001B[1;32m      7\u001B[0m \u001B[38;5;28mprint\u001B[39m(\u001B[38;5;28mnext\u001B[39m(four_chars_string_iterator))\n\u001B[0;32m----> 8\u001B[0m \u001B[38;5;28;43mnext\u001B[39;49m\u001B[43m(\u001B[49m\u001B[43mfour_chars_string_iterator\u001B[49m\u001B[43m)\u001B[49m\n",
      "\u001B[0;31mStopIteration\u001B[0m: "
     ]
    }
   ]
  },
  {
   "cell_type": "markdown",
   "source": [
    "А що якщо викликати цю ж функцію на рядку?"
   ],
   "metadata": {
    "id": "aekWHGXOLRsO"
   }
  },
  {
   "cell_type": "code",
   "source": [
    "next(four_chars_string)"
   ],
   "metadata": {
    "id": "mxATGsErLV1i",
    "ExecuteTime": {
     "end_time": "2024-02-18T17:02:21.559352Z",
     "start_time": "2024-02-18T17:02:21.415028Z"
    }
   },
   "execution_count": 51,
   "outputs": [
    {
     "ename": "TypeError",
     "evalue": "'str' object is not an iterator",
     "output_type": "error",
     "traceback": [
      "\u001B[0;31m---------------------------------------------------------------------------\u001B[0m",
      "\u001B[0;31mTypeError\u001B[0m                                 Traceback (most recent call last)",
      "Cell \u001B[0;32mIn[51], line 1\u001B[0m\n\u001B[0;32m----> 1\u001B[0m \u001B[38;5;28;43mnext\u001B[39;49m\u001B[43m(\u001B[49m\u001B[43mfour_chars_string\u001B[49m\u001B[43m)\u001B[49m\n",
      "\u001B[0;31mTypeError\u001B[0m: 'str' object is not an iterator"
     ]
    }
   ]
  },
  {
   "cell_type": "markdown",
   "source": [
    " 12. (5б). Опишіть своїми словами в одному реченні, як ви розумієте різницю між ітерабельними обʼєктами та ітераторами (можна на прикладі)."
   ],
   "metadata": {
    "id": "XwtMEopwJ4pH"
   }
  },
  {
   "cell_type": "markdown",
   "source": [
    "__Ітерабельний об'єкт__ - об'єкт, що підтримує протокол ітерацій, тобто, протокол послідовного доступу до певної послідовності, яку репрезентує цей об'єкт\n",
    "\n",
    "__Ітератор__ - об'єкт, що створений для виконання протоколу ітерацій для певного ітерабельного об'єкта, тобто, об'єкт, що реалізує логіку ітерацій для певного ітерабельного об'єкту (екземпляру класа)"
   ],
   "metadata": {
    "id": "-sHrODc3KFn8"
   }
  },
  {
   "cell_type": "markdown",
   "source": [
    "13. (11б). Створіть клас, що має визначений Iterator Protocol та при кожному виклику next повертає літери англійської абетки, поки вони не вичерпаються."
   ],
   "metadata": {
    "id": "E9qJWmNbK8Gl"
   }
  },
  {
   "cell_type": "code",
   "execution_count": 3,
   "outputs": [
    {
     "name": "stdout",
     "output_type": "stream",
     "text": [
      "Letters:\n",
      "['a', 'b', 'c', 'd', 'e', 'f', 'g', 'h', 'i', 'j', 'k', 'l', 'm', 'n', 'o', 'p', 'q', 'r', 's', 't', 'u', 'v', 'w', 'x', 'y', 'z']\n"
     ]
    }
   ],
   "source": [
    "from typing import Iterator\n",
    "\n",
    "\n",
    "class AlphabetIterable(Iterator):\n",
    "    def __init__(self):\n",
    "        self.index = 0\n",
    "    \n",
    "    def __next__(self):\n",
    "        if  self.index > ord(\"z\") - ord(\"a\"):\n",
    "            raise StopIteration\n",
    "        else:\n",
    "            self.index += 1\n",
    "            return chr(ord(\"a\") + self.index - 1)\n",
    "\n",
    "print(\"Letters:\")\n",
    "print(list(AlphabetIterable()))"
   ],
   "metadata": {
    "collapsed": false,
    "ExecuteTime": {
     "end_time": "2024-02-18T17:11:43.755006Z",
     "start_time": "2024-02-18T17:11:43.724216Z"
    }
   }
  },
  {
   "cell_type": "markdown",
   "source": [
    "# Вітаю! Ви велика(ий) молодець, що впоралась(вся). Похваліть себе та побалуйте чимось приємним. Я Вами пишаюся."
   ],
   "metadata": {
    "collapsed": false
   }
  }
 ]
}
