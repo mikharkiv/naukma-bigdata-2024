{
 "nbformat": 4,
 "nbformat_minor": 0,
 "metadata": {
  "colab": {
   "provenance": []
  },
  "kernelspec": {
   "name": "python3",
   "language": "python",
   "display_name": "Python 3 (ipykernel)"
  },
  "language_info": {
   "name": "python"
  }
 },
 "cells": [
  {
   "cell_type": "markdown",
   "source": [
    "# I. Оператори порівняння та логічні оператори. Умови."
   ],
   "metadata": {
    "id": "qDEi2Pi-4yUC"
   }
  },
  {
   "cell_type": "markdown",
   "source": [
    "1. Створіть цілочисленну змінну зі своїм щасливим або улюбленим числом. Напишіть код, який би автоматизовував наступну задачу.\n",
    "\n",
    "Якщо число парне, помножте його на 2 та виведіть результат на екран.\n",
    "\n",
    "Але якщо число непарне, помножте його на 3 та додайте 1 і виведіть на екран."
   ],
   "metadata": {
    "id": "3v8D4Dkm43Ua"
   }
  },
  {
   "cell_type": "code",
   "execution_count": 2,
   "metadata": {
    "id": "dlVjc-Nu4bmb",
    "ExecuteTime": {
     "end_time": "2024-02-04T14:48:00.861007Z",
     "start_time": "2024-02-04T14:48:00.855461Z"
    }
   },
   "outputs": [
    {
     "name": "stdout",
     "output_type": "stream",
     "text": [
      "36\n"
     ]
    }
   ],
   "source": [
    "number = 18\n",
    "\n",
    "if number % 2 == 0:\n",
    "    number *= 2\n",
    "else:\n",
    "    number = number * 3 + 1\n",
    "\n",
    "print(number)"
   ]
  },
  {
   "cell_type": "markdown",
   "source": [
    "2. Створіть змінну, що посилається на список. Якщо список пустий, додайте будь-який елемент у кінець списку. Якщо ж ні, то нічого не робіть."
   ],
   "metadata": {
    "id": "H669P0QK5BI_"
   }
  },
  {
   "cell_type": "code",
   "source": [
    "list_var = []\n",
    "\n",
    "if not len(list_var):\n",
    "    list_var.append(\"The only one\")\n",
    "\n",
    "print(list_var)"
   ],
   "metadata": {
    "id": "ecWlfra45f6E",
    "ExecuteTime": {
     "end_time": "2024-02-04T14:48:53.257871Z",
     "start_time": "2024-02-04T14:48:53.248587Z"
    }
   },
   "execution_count": 3,
   "outputs": [
    {
     "name": "stdout",
     "output_type": "stream",
     "text": [
      "['The only one']\n"
     ]
    }
   ]
  },
  {
   "cell_type": "markdown",
   "source": [
    "3. Створіть рядок зі своїм імʼям латинкою. Напишіть код, який би автоматизовував наступну задачу.\n",
    "\n",
    "Якщо в імені є літера \"а\"\n",
    " або \"i\", Виведіть на екран повідомлення \"A or I is in the name\".\n",
    "\n",
    "\n",
    "\n",
    "Якщо в імені є літери \"o\" та \"n\", Виведіть на екран повідомлення \"O and N is in the name\".\n",
    "\n",
    "Також якщо в імені немає літери \"о\", але є \"n\", Виведіть на екран повідомлення \"Only N is in the name\".\n",
    "\n",
    "В решті випадків виведіть на екран повідомлення \"There is no N in the name, but there might be O\".\n",
    "\n",
    "Зверніть увагу, що, наприклад, для імені \"Antonina\" буде виведено два повідомлення."
   ],
   "metadata": {
    "id": "h9Y3cMUd5h85"
   }
  },
  {
   "cell_type": "code",
   "source": [
    "my_name = \"Mykhailo\"\n",
    "\n",
    "if \"a\" in my_name.lower() or \"i\" in my_name.lower():\n",
    "    print(\"A or I is in the name\")\n",
    "\n",
    "if \"n\" in my_name.lower():\n",
    "    if \"o\" in my_name.lower():\n",
    "        print(\"O and N are in the name\")\n",
    "    else:\n",
    "        print(\"Only N is in the name\")\n",
    "else:\n",
    "    print(\"There is no N in the name, but there might be O\")"
   ],
   "metadata": {
    "id": "bUH4LUx35u52",
    "ExecuteTime": {
     "end_time": "2024-02-04T14:53:46.585104Z",
     "start_time": "2024-02-04T14:53:46.576906Z"
    }
   },
   "execution_count": 5,
   "outputs": [
    {
     "name": "stdout",
     "output_type": "stream",
     "text": [
      "A or I is in the name\n",
      "There is no N in the name, but there might be O\n"
     ]
    }
   ]
  },
  {
   "cell_type": "markdown",
   "source": [
    "# II. Comprehensions."
   ],
   "metadata": {
    "id": "wPCXJv4354cU"
   }
  },
  {
   "cell_type": "markdown",
   "source": [
    "4. Створіть список, використовуючи if (не if-else), range та comprehension."
   ],
   "metadata": {
    "id": "jULLW5jN55Pw"
   }
  },
  {
   "cell_type": "code",
   "source": [
    "even_numbers = [x for x in range(12) if not x % 2]\n",
    "print(even_numbers)"
   ],
   "metadata": {
    "id": "mlZalnVC6W3F",
    "ExecuteTime": {
     "end_time": "2024-02-04T14:54:51.270868Z",
     "start_time": "2024-02-04T14:54:51.264728Z"
    }
   },
   "execution_count": 6,
   "outputs": [
    {
     "name": "stdout",
     "output_type": "stream",
     "text": [
      "[0, 2, 4, 6, 8, 10]\n"
     ]
    }
   ]
  },
  {
   "cell_type": "markdown",
   "source": [
    "5. Створіть словник, використовуючи dict comprehension, що містить if else. Коли слід використовувати comprehensions, а коли їх слід уникати?"
   ],
   "metadata": {
    "id": "LqhEQ4JW6XcC"
   }
  },
  {
   "cell_type": "code",
   "source": [
    "letters_dict = {x: \"Vowel\" if x.lower() in \"aeiou\" else \"Consonant\" for x in \"Kyiv-Mohyla Academy\"}\n",
    "print(letters_dict)"
   ],
   "metadata": {
    "id": "1yVaFbOs6hta",
    "ExecuteTime": {
     "end_time": "2024-02-04T14:59:06.226940Z",
     "start_time": "2024-02-04T14:59:06.215051Z"
    }
   },
   "execution_count": 8,
   "outputs": [
    {
     "name": "stdout",
     "output_type": "stream",
     "text": [
      "{'K': 'Consonant', 'y': 'Consonant', 'i': 'Vowel', 'v': 'Consonant', '-': 'Consonant', 'M': 'Consonant', 'o': 'Vowel', 'h': 'Consonant', 'l': 'Consonant', 'a': 'Vowel', ' ': 'Consonant', 'A': 'Vowel', 'c': 'Consonant', 'd': 'Consonant', 'e': 'Vowel', 'm': 'Consonant'}\n"
     ]
    }
   ]
  },
  {
   "cell_type": "markdown",
   "source": [
    "## Відповідь\n",
    "\n",
    "Comprehensions доцільно використовувати у таких випадках:\n",
    "\n",
    "* замість `map()`, `filter()`, завжди, коли це можливо - для підвищення читабельності коду\n",
    "* у випадках, коли логіка дуже проста\n",
    "* не слід, коли логіка складна (займає багато місця)"
   ],
   "metadata": {
    "id": "wbkzNhKq6hzz"
   }
  },
  {
   "cell_type": "markdown",
   "source": [
    "6. Створіть список з рядками та запишіть його у змінну. Створіть ще один список на основі попереднього, де кожен рядок буде містити тільки три перших заглавних символи. Наприклад: ['hello', 'i', 'dont', 'care'] -> ['HEL', 'I', 'DON', 'CAR']. Використання comprehensions обовʼязкове."
   ],
   "metadata": {
    "id": "ZlqB8G3G6lHP"
   }
  },
  {
   "cell_type": "code",
   "source": [
    "words = [\"Ukraine\", \"is\", \"a\", \"sovereign\", \"and\", \"independent\", \"democratic\", \"social\", \"law-based\", \"state\"]\n",
    "upper_words = [w.upper()[:3] for w in words]\n",
    "print(upper_words)"
   ],
   "metadata": {
    "id": "nw6rz0bR60VC",
    "ExecuteTime": {
     "end_time": "2024-02-04T15:05:27.529196Z",
     "start_time": "2024-02-04T15:05:27.525445Z"
    }
   },
   "execution_count": 9,
   "outputs": [
    {
     "name": "stdout",
     "output_type": "stream",
     "text": [
      "['UKR', 'IS', 'A', 'SOV', 'AND', 'IND', 'DEM', 'SOC', 'LAW', 'STA']\n"
     ]
    }
   ]
  },
  {
   "cell_type": "markdown",
   "source": [
    "# III. Цикли."
   ],
   "metadata": {
    "id": "Tj573IAH64Fz"
   }
  },
  {
   "cell_type": "markdown",
   "source": [
    "7. Продемонструйте роботу циклу while. Не можна використовувати True для запуску циклу, щоб уникнути безкінечного циклу!"
   ],
   "metadata": {
    "id": "tN_33xdE65H5"
   }
  },
  {
   "cell_type": "code",
   "source": [
    "birthdays_before_18_yo = []\n",
    "\n",
    "while len(birthdays_before_18_yo) < 18:\n",
    "    birthdays_before_18_yo.append(len(birthdays_before_18_yo))\n",
    "\n",
    "print(birthdays_before_18_yo)"
   ],
   "metadata": {
    "id": "Kd9FO6yG63P5",
    "ExecuteTime": {
     "end_time": "2024-02-04T15:07:34.148703Z",
     "start_time": "2024-02-04T15:07:34.140164Z"
    }
   },
   "execution_count": 12,
   "outputs": [
    {
     "name": "stdout",
     "output_type": "stream",
     "text": [
      "[0, 1, 2, 3, 4, 5, 6, 7, 8, 9, 10, 11, 12, 13, 14, 15, 16, 17]\n"
     ]
    }
   ]
  },
  {
   "cell_type": "markdown",
   "source": [
    "8. Напишіть програму, яка виведе на екран непарні числа в діапазоні від 0 до 20 включно."
   ],
   "metadata": {
    "id": "x2CmfZO-7pW0"
   }
  },
  {
   "cell_type": "code",
   "source": [
    "for x in range(0, 20 + 1):\n",
    "    if x % 2:\n",
    "        print(x)"
   ],
   "metadata": {
    "id": "aCSRYA6s7tkF",
    "ExecuteTime": {
     "end_time": "2024-02-04T15:08:31.428315Z",
     "start_time": "2024-02-04T15:08:31.422814Z"
    }
   },
   "execution_count": 17,
   "outputs": [
    {
     "name": "stdout",
     "output_type": "stream",
     "text": [
      "1\n",
      "3\n",
      "5\n",
      "7\n",
      "9\n",
      "11\n",
      "13\n",
      "15\n",
      "17\n",
      "19\n"
     ]
    }
   ]
  },
  {
   "cell_type": "markdown",
   "source": [
    "9. Створіть список з елементами булевого типу або None. Використовуючи цикли, отримайте в результаті список з кортежами, де перший елемент кортежу - індекс(ціле число), а другий елемент - відповідне значення з першого списку.\n",
    "\n",
    "Наприклад, [True, True, None, False] -> [(0, True), (1, True), (2, None), (3, False)]"
   ],
   "metadata": {
    "id": "MDWNocZD7t_B"
   }
  },
  {
   "cell_type": "code",
   "source": [
    "list_of_bools = [True, False, True, None, None, True, True, None, False]\n",
    "\n",
    "enumerated_list = []\n",
    "for i in range(len(list_of_bools)):\n",
    "    enumerated_list.append((i, list_of_bools[i]))\n",
    "\n",
    "print(enumerated_list)"
   ],
   "metadata": {
    "id": "0EUyjMdp7yfh",
    "ExecuteTime": {
     "end_time": "2024-02-04T15:11:04.834175Z",
     "start_time": "2024-02-04T15:11:04.828420Z"
    }
   },
   "execution_count": 19,
   "outputs": [
    {
     "name": "stdout",
     "output_type": "stream",
     "text": [
      "[(0, True), (1, False), (2, True), (3, None), (4, None), (5, True), (6, True), (7, None), (8, False)]\n"
     ]
    }
   ]
  },
  {
   "cell_type": "markdown",
   "source": [
    "10. Створіть словник, де ключі - назви книжок, а значення - їхня кількість у наявності в Вашій міні-бібліотеці. Бібліотека має містити щонайменше 6 книжок (6 пар значень у словнику) і щонайбільше 10 (пар значень). Використовуючи цикли, оновіть словник (не створюйте новий) так, щоби кількість книг у наявності збільшилося на 5 кожної книги. Наприклад,\n",
    "{'It': 3, 'Fault stars': 10, 'Bible': 17, 'Psychological romance': 4, 'Harry Potter': 13} -> {'It': 8, 'Fault stars': 15, 'Bible': 22, 'Psychological romance': 9, 'Harry Potter': 18}"
   ],
   "metadata": {
    "id": "-6XUqlcG7zKs"
   }
  },
  {
   "cell_type": "code",
   "source": [
    "books = {\n",
    "    \"Tiger Trappers\": 3,\n",
    "    \"The Hunters and the Hunted\": 8,\n",
    "    \"Garden of Gethsemane\": 30,\n",
    "    \"Why don't I want to go back to the USSR?\": 9,\n",
    "    \"Telephone in Ukrainian\": 62,\n",
    "    \"A Man Runs Over an Abyss\": 90,\n",
    "}\n",
    "\n",
    "for k in books.keys():\n",
    "    books[k] += 5\n",
    "    \n",
    "print(books)"
   ],
   "metadata": {
    "id": "Ceoj9wwb791q",
    "ExecuteTime": {
     "end_time": "2024-02-04T15:17:35.752072Z",
     "start_time": "2024-02-04T15:17:35.733780Z"
    }
   },
   "execution_count": 20,
   "outputs": [
    {
     "name": "stdout",
     "output_type": "stream",
     "text": [
      "{'Tiger Trappers': 8, 'The Hunters and the Hunted': 13, 'Garden of Gethsemane': 35, \"Why don't I want to go back to the USSR?\": 14, 'Telephone in Ukrainian': 67, 'A Man Runs Over an Abyss': 95}\n"
     ]
    }
   ]
  },
  {
   "cell_type": "markdown",
   "source": [
    "11. Визначте цілочислену змінну n, що належить проміжку від 4 до 10 включно. Використовуючи цикли, виведіть в консоль наступний патерн.\n",
    "\n",
    "#\n",
    "##\n",
    "###\n",
    "####\n",
    "\n",
    "... #*n\n"
   ],
   "metadata": {
    "id": "QLzyJM288AC7"
   }
  },
  {
   "cell_type": "code",
   "source": [
    "n = 9\n",
    "\n",
    "for i in range(n + 1):\n",
    "    print(\"#\" * i)"
   ],
   "metadata": {
    "id": "KOpng87s8Duz",
    "ExecuteTime": {
     "end_time": "2024-02-04T15:18:40.171273Z",
     "start_time": "2024-02-04T15:18:40.167669Z"
    }
   },
   "execution_count": 23,
   "outputs": [
    {
     "name": "stdout",
     "output_type": "stream",
     "text": [
      "\n",
      "#\n",
      "##\n",
      "###\n",
      "####\n",
      "#####\n",
      "######\n",
      "#######\n",
      "########\n",
      "#########\n"
     ]
    }
   ]
  },
  {
   "cell_type": "markdown",
   "source": [
    "12. Гра \"Нумо вгадай\".\n",
    "Розробіть просту гру, де користувач має вгадати випадкове число від 1 до 100. Для генерації випадкового числа використовуйте функцію random.randint(a, b) (тут a та b включно). Для отримання числа з консолі використовуйте функцію input(), результат якої обовʼязково явно приведіть до типу int.\n",
    "\n",
    "Підказка: використовуйте цикл while та умови if-else, щоб повідомити користувачу піказки (напр. \"Більше\", \"Менше\") поки користувач не вгадає. По завершенню виведіть кількість спроб, які знадобилися для вгадування."
   ],
   "metadata": {
    "id": "_bd-bqAT8EHn"
   }
  },
  {
   "cell_type": "code",
   "source": [
    "import random\n",
    "\n",
    "tries = 0\n",
    "goal = random.randint(0, 100)\n",
    "user_input = None\n",
    "\n",
    "while True:\n",
    "    user_input = int(input(\"Your guess: \"))\n",
    "    \n",
    "    if user_input == goal:\n",
    "        print(f\"You're right! It's {user_input}\")\n",
    "        print(f\"It took you {tries} tries!\")\n",
    "        break\n",
    "    else:\n",
    "        if goal < user_input:\n",
    "            print(f\"It's smaller than {user_input}!\")\n",
    "        else:\n",
    "            print(f\"It's bigger than {user_input}!\")\n",
    "    \n",
    "    tries += 1"
   ],
   "metadata": {
    "id": "IK9nnxFK8Hkl",
    "ExecuteTime": {
     "end_time": "2024-02-04T15:26:53.125102Z",
     "start_time": "2024-02-04T15:26:43.866440Z"
    }
   },
   "execution_count": 27,
   "outputs": [
    {
     "name": "stdout",
     "output_type": "stream",
     "text": [
      "It's smaller than 50!\n",
      "It's smaller than 50!\n",
      "It's smaller than 50!\n",
      "You're right! It's 25\n",
      "It took you 3 tries!\n"
     ]
    }
   ]
  },
  {
   "cell_type": "markdown",
   "source": [
    "# Вітаю! Ви велика(ий) молодець, що впоралась(вся). Похваліть себе та побалуйте чимось приємним. Я Вами пишаюся."
   ],
   "metadata": {
    "id": "PXoXWb7Z8IGi"
   }
  }
 ]
}
