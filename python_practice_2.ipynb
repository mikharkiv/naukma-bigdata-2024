{
 "nbformat": 4,
 "nbformat_minor": 0,
 "metadata": {
  "colab": {
   "provenance": []
  },
  "kernelspec": {
   "name": "python3",
   "language": "python",
   "display_name": "Python 3 (ipykernel)"
  },
  "language_info": {
   "name": "python"
  }
 },
 "cells": [
  {
   "cell_type": "markdown",
   "source": [
    "## Виконав Михайло Постніков, група IPZ_Group_9"
   ],
   "metadata": {
    "collapsed": false
   }
  },
  {
   "cell_type": "markdown",
   "source": [
    "# I. Змінні та памʼять."
   ],
   "metadata": {
    "id": "p9wwt0LZzNvn"
   }
  },
  {
   "cell_type": "markdown",
   "source": [
    "1. Створити змінні, що посилаються на два цілих числа, що однакові за значенням, де значення належить проміжку від -5 до 256. Перевірте, чи будуть ці змінні рівні тільки за значенням або ж ще будуть посилатися на один і той самий обʼєкт в памʼяті? Наведіть код та дайте текстову відповідь нижче."
   ],
   "metadata": {
    "id": "HTJrrm95xSV9"
   }
  },
  {
   "cell_type": "code",
   "execution_count": 1,
   "metadata": {
    "id": "TATni2vzayjG",
    "ExecuteTime": {
     "end_time": "2024-02-04T12:37:42.195791Z",
     "start_time": "2024-02-04T12:37:42.110453Z"
    }
   },
   "outputs": [
    {
     "name": "stdout",
     "output_type": "stream",
     "text": [
      "Equal by value? True\n",
      "Equal by reference? True\n"
     ]
    }
   ],
   "source": [
    "x = 100\n",
    "y = 100\n",
    "\n",
    "print(\"Equal by value?\", x == y)\n",
    "print(\"Equal by reference?\", x is y)"
   ]
  },
  {
   "cell_type": "markdown",
   "source": [
    "### Відповідь\n",
    "\n",
    "Змінні однакові за значенням, і однакові за посиланням (посилаються на один і той самий об'єкт в пам'яті)"
   ],
   "metadata": {
    "id": "zfRG_o3WbRdg"
   }
  },
  {
   "cell_type": "markdown",
   "source": [
    "2. За допомогою якої функції можна перевірити належність змінної до вказаного типу даних (напр. чи змінна True посилається на значення булевого та цілочисленого типу)?"
   ],
   "metadata": {
    "id": "ISORzt6M3vAt"
   }
  },
  {
   "cell_type": "markdown",
   "source": [
    "## Відповідь\n",
    "\n",
    "За допомогою функції `isinstance()`"
   ],
   "metadata": {
    "collapsed": false
   }
  },
  {
   "cell_type": "code",
   "source": [
    "print(f\"isinstance(True, bool) ? {isinstance(True, bool)}\")\n",
    "print(f\"isinstance(True, int) ? {isinstance(True, int)}\")"
   ],
   "metadata": {
    "id": "9vL9CFaMbfyo",
    "ExecuteTime": {
     "end_time": "2024-02-04T12:40:57.452580Z",
     "start_time": "2024-02-04T12:40:57.446986Z"
    }
   },
   "execution_count": 7,
   "outputs": [
    {
     "name": "stdout",
     "output_type": "stream",
     "text": [
      "isinstance(True, bool) ? True\n",
      "isinstance(True, int) ? True\n"
     ]
    }
   ]
  },
  {
   "cell_type": "markdown",
   "source": [
    "# II. Цілі числа та числа з рухомою комою"
   ],
   "metadata": {
    "id": "tRxugKAxwYLw"
   }
  },
  {
   "cell_type": "markdown",
   "source": [
    "3. Створити дві змінні, що посилаються на будь-які ціле число та число з рухомою комою та продемонструвати такі арифметичні операції: додавання, віднімання, ділення, множення, ділення без залишку, ділення по модулю, приведення до ступеню. Всі результати операцій вивести на екран."
   ],
   "metadata": {
    "id": "NLHkgd5Gybc8"
   }
  },
  {
   "cell_type": "code",
   "source": [
    "a = 2024\n",
    "b = 36.6\n",
    "\n",
    "print(f\"Addition: {a + b}\")\n",
    "print(f\"Subtraction: {a - b}\")\n",
    "print(f\"Division: {a / b}\")\n",
    "print(f\"Multiplication: {a * b}\")\n",
    "print(f\"Floor division: {a // b}\")\n",
    "print(f\"Modulus: {a % b}\")\n",
    "print(f\"Power: {a ** b}\")"
   ],
   "metadata": {
    "id": "nb8u_3pjb2cA",
    "ExecuteTime": {
     "end_time": "2024-02-04T12:44:22.617786Z",
     "start_time": "2024-02-04T12:44:22.610995Z"
    }
   },
   "execution_count": 9,
   "outputs": [
    {
     "name": "stdout",
     "output_type": "stream",
     "text": [
      "Addition: 2060.6\n",
      "Subtraction: 1987.4\n",
      "Division: 55.30054644808743\n",
      "Multiplication: 74078.40000000001\n",
      "Floor division: 55.0\n",
      "Modulus: 10.999999999999922\n",
      "Power: 1.0169617041249194e+121\n"
     ]
    }
   ]
  },
  {
   "cell_type": "markdown",
   "source": [
    "4. Використовуючи змінні з вправи 3, продемонструйте механізм явного перетворення типів, де числа з рухомою комою перетворюються на цілі числа. Також визначте змінну, що посилається на значення булевого типу і спробуйте явно привести її до цілого числа."
   ],
   "metadata": {
    "id": "1kBClKgPzZnC"
   }
  },
  {
   "cell_type": "code",
   "source": [
    "print(f\"Cast `float` to `int`: {int(b)}\")\n",
    "\n",
    "bool_var = True\n",
    "print(f\"Cast `bool` to `int`: {int(bool_var)}\")"
   ],
   "metadata": {
    "id": "TbqJbkeUcKsD",
    "ExecuteTime": {
     "end_time": "2024-02-04T12:45:38.703609Z",
     "start_time": "2024-02-04T12:45:38.699256Z"
    }
   },
   "execution_count": 10,
   "outputs": [
    {
     "name": "stdout",
     "output_type": "stream",
     "text": [
      "Cast `float` to `int`: 36\n",
      "Cast `bool` to `int`: 1\n"
     ]
    }
   ]
  },
  {
   "cell_type": "markdown",
   "source": [
    "# IІІ. Рядки (String)."
   ],
   "metadata": {
    "id": "EVJ7AflwxrZi"
   }
  },
  {
   "cell_type": "markdown",
   "source": [
    "5. Створити пустий рядок двома різними способами."
   ],
   "metadata": {
    "id": "_s5ECzz9zE61"
   }
  },
  {
   "cell_type": "code",
   "source": [
    "empty_str = \"\"\n",
    "empty_str_2 = str()\n",
    "\n",
    "print(empty_str, empty_str_2, empty_str == empty_str_2, sep=\"\\n\")"
   ],
   "metadata": {
    "id": "fkZJHu9Scvc-",
    "ExecuteTime": {
     "end_time": "2024-02-04T12:46:25.121935Z",
     "start_time": "2024-02-04T12:46:25.101166Z"
    }
   },
   "execution_count": 11,
   "outputs": [
    {
     "name": "stdout",
     "output_type": "stream",
     "text": [
      "\n",
      "\n",
      "True\n"
     ]
    }
   ]
  },
  {
   "cell_type": "markdown",
   "source": [
    "6. Створити рядок з апострофом. Зробити його сирим. Вивести обидва рядка на екран."
   ],
   "metadata": {
    "id": "4Bdn9J3MzLf_"
   }
  },
  {
   "cell_type": "code",
   "source": [
    "apostrophe = '\\''\n",
    "raw_apostrophe = repr(apostrophe)\n",
    "\n",
    "print(f\"{apostrophe = } ; {raw_apostrophe = }\")"
   ],
   "metadata": {
    "id": "ivji_hsmc0GH",
    "ExecuteTime": {
     "end_time": "2024-02-04T12:49:45.788285Z",
     "start_time": "2024-02-04T12:49:45.778494Z"
    }
   },
   "execution_count": 14,
   "outputs": [
    {
     "name": "stdout",
     "output_type": "stream",
     "text": [
      "apostrophe = \"'\" ; raw_apostrophe = '\"\\'\"'\n"
     ]
    }
   ]
  },
  {
   "cell_type": "markdown",
   "source": [
    "7. Створити змінну, що буде посилатися на Ваше прізвище латинкою. Створити форматований рядок, який буде мати вигляд \"My surname is ______\", де на місці нижніх підкреслень буде Ваше прізвище зі змінної."
   ],
   "metadata": {
    "id": "bg_d8wM4z8dS"
   }
  },
  {
   "cell_type": "code",
   "source": [
    "my_surname = \"Postnikov\"\n",
    "string_with_surname = f\"My surname is {my_surname}\"\n",
    "\n",
    "print(string_with_surname)"
   ],
   "metadata": {
    "id": "kuxFgpWndACq",
    "ExecuteTime": {
     "end_time": "2024-02-04T12:50:25.350149Z",
     "start_time": "2024-02-04T12:50:25.341977Z"
    }
   },
   "execution_count": 15,
   "outputs": [
    {
     "name": "stdout",
     "output_type": "stream",
     "text": [
      "My surname is Postnikov\n"
     ]
    }
   ]
  },
  {
   "cell_type": "markdown",
   "source": [
    "8. Маючи рядок \"My dog is crazy.\" перетворити його на список [\"my\", \"dog\", \"is\", \"crazy\"]"
   ],
   "metadata": {
    "id": "1Nc6RqvQ0hxU"
   }
  },
  {
   "cell_type": "code",
   "source": [
    "sentence = \"My dog is crazy\"\n",
    "\n",
    "words = sentence.split(\" \")\n",
    "print(words)"
   ],
   "metadata": {
    "id": "w1Ya4RqedUhw",
    "ExecuteTime": {
     "end_time": "2024-02-04T12:50:56.530767Z",
     "start_time": "2024-02-04T12:50:56.508263Z"
    }
   },
   "execution_count": 16,
   "outputs": [
    {
     "name": "stdout",
     "output_type": "stream",
     "text": [
      "['My', 'dog', 'is', 'crazy']\n"
     ]
    }
   ]
  },
  {
   "cell_type": "markdown",
   "source": [
    "# IV. Робота зі списками."
   ],
   "metadata": {
    "id": "GYVqN9uP1D4n"
   }
  },
  {
   "cell_type": "markdown",
   "source": [
    "9. Створити список двома різними за синтаксисом способами. За допомогою вбудованої функції обчисліть довжину одного з них."
   ],
   "metadata": {
    "id": "7-DeDunw2sO-"
   }
  },
  {
   "cell_type": "code",
   "source": [
    "list_1 = [0, 1, 2, 3]\n",
    "list_2 = list(range(4))\n",
    "\n",
    "print(f\"Length of list_2: {len(list_2)}\")"
   ],
   "metadata": {
    "id": "zxg06Uuxdyoh",
    "ExecuteTime": {
     "end_time": "2024-02-04T12:53:22.899042Z",
     "start_time": "2024-02-04T12:53:22.893983Z"
    }
   },
   "execution_count": 20,
   "outputs": [
    {
     "name": "stdout",
     "output_type": "stream",
     "text": [
      "Length of list_2: 4\n"
     ]
    }
   ]
  },
  {
   "cell_type": "markdown",
   "source": [
    "10. Створіть два списка та за допомогою спеціального методу додайте другий з них в якості останнього елемента першого."
   ],
   "metadata": {
    "id": "8vmGUTjL22gI"
   }
  },
  {
   "cell_type": "code",
   "source": [
    "list_a = [\"a\"]\n",
    "list_b = [\"dog\"]\n",
    "\n",
    "list_a.append(list_b)\n",
    "print(list_a)"
   ],
   "metadata": {
    "id": "uHtjWYw7d7hm",
    "ExecuteTime": {
     "end_time": "2024-02-04T12:54:14.553753Z",
     "start_time": "2024-02-04T12:54:14.548401Z"
    }
   },
   "execution_count": 21,
   "outputs": [
    {
     "name": "stdout",
     "output_type": "stream",
     "text": [
      "['a', ['dog']]\n"
     ]
    }
   ]
  },
  {
   "cell_type": "markdown",
   "source": [
    "11. Створіть список, де елементами цього списку також є списки. Отримай перший елемент з останнього рядка та виведи значення на екран."
   ],
   "metadata": {
    "id": "JC3BkD-67_--"
   }
  },
  {
   "cell_type": "code",
   "source": [
    "list_of_lists = [\n",
    "    [1, 0, 5],\n",
    "    [2, 8, 19, 000],\n",
    "    [2_000, 3_000],\n",
    "    [5_000, 0, 1_000_000]\n",
    "]\n",
    "print(list_of_lists[-1][-1])"
   ],
   "metadata": {
    "id": "Kz2jZHsGeLlz",
    "ExecuteTime": {
     "end_time": "2024-02-04T12:55:12.957450Z",
     "start_time": "2024-02-04T12:55:12.938382Z"
    }
   },
   "execution_count": 22,
   "outputs": [
    {
     "name": "stdout",
     "output_type": "stream",
     "text": [
      "1000000\n"
     ]
    }
   ]
  },
  {
   "cell_type": "markdown",
   "source": [
    "12. Створіть список з десяти елементів різного типу. Отримайте всі елементи, окрім двох перших та двох останніх та збережіть їх в новій змінній."
   ],
   "metadata": {
    "id": "JA47PKTv8zFK"
   }
  },
  {
   "cell_type": "code",
   "source": [
    "mixture = [\n",
    "    \"metro\",\n",
    "    2,\n",
    "    False,\n",
    "    {\"set\"},\n",
    "    {\"Ukraine\": \"Kyiv\"},\n",
    "    (1, 9, 9, 1),\n",
    "    3.1,\n",
    "    complex(3, 1),\n",
    "    b\"BYTES\",\n",
    "    None\n",
    "]\n",
    "brand_new_mixture = mixture[2:-2]\n",
    "print(brand_new_mixture)"
   ],
   "metadata": {
    "id": "_rHdUR-ueP4-",
    "ExecuteTime": {
     "end_time": "2024-02-04T12:59:23.370752Z",
     "start_time": "2024-02-04T12:59:23.365352Z"
    }
   },
   "execution_count": 23,
   "outputs": [
    {
     "name": "stdout",
     "output_type": "stream",
     "text": [
      "[False, {'set'}, {'Ukraine': 'Kyiv'}, (1, 9, 9, 1), 3.1, (3+1j)]\n"
     ]
    }
   ]
  },
  {
   "cell_type": "markdown",
   "source": [
    "# V. Робота з кортежами."
   ],
   "metadata": {
    "id": "pCjR1dJb1Qbi"
   }
  },
  {
   "cell_type": "markdown",
   "source": [
    "14. Створити кортеж з один елементом."
   ],
   "metadata": {
    "id": "fAZCxAX06R_k"
   }
  },
  {
   "cell_type": "code",
   "source": [
    "single_element_tuple = (\"Alone\",)"
   ],
   "metadata": {
    "id": "H7d82WkQev3e"
   },
   "execution_count": null,
   "outputs": []
  },
  {
   "cell_type": "markdown",
   "source": [
    "15. Порівняйте список та кортеж. Назвіть схожості та відмінності, випадки використання."
   ],
   "metadata": {
    "id": "8LCtYcmI6w1M"
   }
  },
  {
   "cell_type": "markdown",
   "source": [
    "* Список - це упорядкована колекція (послідовність) з елементів\n",
    "* Кортеж - це незмінний список\n",
    "* Схожі: обидва є впорядкованими колекціями\n",
    "* Відмінні: список - змінний, кортеж - незмінний\n",
    "* Випадки використання:\n",
    "    * Список використовуємо тоді, коли є потреба в змінності, наприклад, коли накопичуємо значення циклом\n",
    "    * Кортеж використовуємо тоді, коли дані незмінні, наприклад, константна змінна\n",
    "      `I_AM_CONST = (3, 3, 3)`"
   ],
   "metadata": {
    "id": "fUsN1Hnue0C6"
   }
  },
  {
   "cell_type": "markdown",
   "source": [
    "16. Створіть кортеж з 11ти елементів чисел з рухомою комою та отримайте кожен парний за індексом елемент в зворотньому порядку. Наприклад, маючи (1.2, 2.3, 3.3, 4.3, 5.3, 6.3, 7.3, 8.3, 9.3, 0.3), отримати (0.3, 8.3, 6.3, 4.3, 2.3). Результат збережіть в нову змінну та виведіть на екран."
   ],
   "metadata": {
    "id": "m0xrwFijAmDD"
   }
  },
  {
   "cell_type": "code",
   "source": [
    "tuple_of_floats = (\n",
    "    1.1, 2.1, 3.1, 4.1, 5.1, 6.1, 7.1, 8.1, 9.1, 10.1, 11.1\n",
    ")\n",
    "every_second_and_reversed = tuple_of_floats[::-2]\n",
    "print(every_second_and_reversed)"
   ],
   "metadata": {
    "id": "p-5DAH6XfAGA",
    "ExecuteTime": {
     "end_time": "2024-02-04T13:05:35.892058Z",
     "start_time": "2024-02-04T13:05:35.871067Z"
    }
   },
   "execution_count": 25,
   "outputs": [
    {
     "name": "stdout",
     "output_type": "stream",
     "text": [
      "(11.1, 9.1, 7.1, 5.1, 3.1, 1.1)\n"
     ]
    }
   ]
  },
  {
   "cell_type": "markdown",
   "source": [
    "# VI. Множини (Set)."
   ],
   "metadata": {
    "id": "rW_I9dt3x6cW"
   }
  },
  {
   "cell_type": "markdown",
   "source": [
    "17. Створити множину без елементів. Після цого за допомогою методу додайте кілька різних елементів до множини. Чи множини є змінним типом даних?"
   ],
   "metadata": {
    "id": "zNjRLHLw1Bgg"
   }
  },
  {
   "cell_type": "code",
   "source": [
    "empty_set = set()\n",
    "\n",
    "empty_set.add(\"Element\")\n",
    "empty_set.add(\"Another element\")\n",
    "empty_set.add(\"One more element\")\n",
    "\n",
    "print(empty_set)"
   ],
   "metadata": {
    "id": "KOv7zc2Kfo4N",
    "ExecuteTime": {
     "end_time": "2024-02-04T13:07:18.792230Z",
     "start_time": "2024-02-04T13:07:18.776154Z"
    }
   },
   "execution_count": 26,
   "outputs": [
    {
     "name": "stdout",
     "output_type": "stream",
     "text": [
      "{'One more element', 'Another element', 'Element'}\n"
     ]
    }
   ]
  },
  {
   "cell_type": "markdown",
   "source": [
    "## Відповідь\n",
    "\n",
    "Так, множина є змінним типом даних"
   ],
   "metadata": {
    "id": "vxS6dVYiftZQ"
   }
  },
  {
   "cell_type": "markdown",
   "source": [
    "18. Створити множину, маючи список my_list = [1, 1, 2, 67, 67, 8, 9]. Пояснити, чому \"зникли\" деякі елементи."
   ],
   "metadata": {
    "id": "gHpT0Zw_1HEF"
   }
  },
  {
   "cell_type": "code",
   "source": [
    "my_list = [1, 1, 2, 67, 67, 8, 9]\n",
    "my_set = set(my_list)\n",
    "print(my_set)"
   ],
   "metadata": {
    "id": "qCN4uvJ_fxmu",
    "ExecuteTime": {
     "end_time": "2024-02-04T13:07:56.544772Z",
     "start_time": "2024-02-04T13:07:56.520509Z"
    }
   },
   "execution_count": 27,
   "outputs": [
    {
     "name": "stdout",
     "output_type": "stream",
     "text": [
      "{1, 2, 67, 8, 9}\n"
     ]
    }
   ]
  },
  {
   "cell_type": "markdown",
   "source": [
    "## Відповідь\n",
    "\n",
    "Елементи зникли, оскільки множина зберігає лише унікальні значення"
   ],
   "metadata": {
    "id": "tFNc1e20fyny"
   }
  },
  {
   "cell_type": "markdown",
   "source": [
    "19. Створіть дві множини. Продемонстуйте над ними операції: обʼєднання, різниці, пересічі та симетричної різниці. Використовуйте методи, що не змінюють множини, а створюють нові."
   ],
   "metadata": {
    "id": "SRMkGizS1UwY"
   }
  },
  {
   "cell_type": "code",
   "source": [
    "first_set = {1, 11, 111, 1111}\n",
    "second_set = {1, 11, 222, 2222}\n",
    "\n",
    "print(f\"Union: {first_set | second_set}\")\n",
    "print(f\"Intersection: {first_set & second_set}\")\n",
    "print(f\"Difference: {first_set - second_set}\")\n",
    "print(f\"Symmetric difference: {first_set ^ second_set}\")"
   ],
   "metadata": {
    "id": "h0T-VuDnf3Ri",
    "ExecuteTime": {
     "end_time": "2024-02-04T13:10:56.555574Z",
     "start_time": "2024-02-04T13:10:56.550205Z"
    }
   },
   "execution_count": 28,
   "outputs": [
    {
     "name": "stdout",
     "output_type": "stream",
     "text": [
      "Union: {1, 11, 2222, 111, 1111, 222}\n",
      "Intersection: {1, 11}\n",
      "Difference: {1111, 111}\n",
      "Symmetric difference: {1111, 2222, 222, 111}\n"
     ]
    }
   ]
  },
  {
   "cell_type": "markdown",
   "source": [
    "# VII. Словники (Dictionary)."
   ],
   "metadata": {
    "id": "kWc8gkzTx7Ea"
   }
  },
  {
   "cell_type": "markdown",
   "source": [
    "20. Створіть пустий словник. До нього додайте чотири пари елементів такі, щоб їхні ключі були різних типів. Чи може список бути ключем? Чому?"
   ],
   "metadata": {
    "id": "i5FLwj-B2ybQ"
   }
  },
  {
   "cell_type": "code",
   "source": [
    "empty_dict = {}\n",
    "\n",
    "empty_dict[1] = \"a\"\n",
    "empty_dict[\"two\"] = \"b\"\n",
    "empty_dict[(\"t\", \"h\", \"r\", \"e\", \"e\")] = \"c\"\n",
    "empty_dict[b\"4\"] = \"d\"\n",
    "\n",
    "print(empty_dict)"
   ],
   "metadata": {
    "id": "hxgv3BzrgLAV",
    "ExecuteTime": {
     "end_time": "2024-02-04T13:15:40.926597Z",
     "start_time": "2024-02-04T13:15:40.906379Z"
    }
   },
   "execution_count": 41,
   "outputs": [
    {
     "name": "stdout",
     "output_type": "stream",
     "text": [
      "{1: 'a', 'two': 'b', ('t', 'h', 'r', 'e', 'e'): 'c', b'4': 'd'}\n"
     ]
    }
   ]
  },
  {
   "cell_type": "markdown",
   "source": [
    "## Відповідь\n",
    "\n",
    "Список не може бути ключем, адже він не хешується (неможливо взяти хеш), а не хешується тому, що є змінним"
   ],
   "metadata": {
    "id": "zwa7UVN-gR3m"
   }
  },
  {
   "cell_type": "markdown",
   "source": [
    "21. Створіть словник, де значенням в одній з пар теж буде словник, який теж має вкладений словник. Виведіть на екран значення, що міститься в словнику, що знаходиться на найнижчому рівні ієрархії вкладеності (найбільш внутрішній)."
   ],
   "metadata": {
    "id": "WM_pMlJsgoNf"
   }
  },
  {
   "cell_type": "code",
   "source": [
    "nested_dict = {\n",
    "    0: 0,\n",
    "    \"lvl1\": {\n",
    "        \"lvl2\": {\n",
    "            \"lvl3\": \"It's deep here\"\n",
    "        }\n",
    "    }\n",
    "}\n",
    "\n",
    "print(nested_dict[\"lvl1\"][\"lvl2\"][\"lvl3\"])"
   ],
   "metadata": {
    "id": "60dlP7IHhAy4",
    "ExecuteTime": {
     "end_time": "2024-02-04T13:17:52.389778Z",
     "start_time": "2024-02-04T13:17:52.381264Z"
    }
   },
   "execution_count": 42,
   "outputs": [
    {
     "name": "stdout",
     "output_type": "stream",
     "text": [
      "It's deep here\n"
     ]
    }
   ]
  },
  {
   "cell_type": "markdown",
   "source": [
    "# Вітаю! Ви велика(ий) молодець, що впоралась(вся). Похваліть себе та побалуйте чимось приємним. Я Вами пишаюся."
   ],
   "metadata": {
    "id": "xOZP0hkx6cCr"
   }
  }
 ]
}
